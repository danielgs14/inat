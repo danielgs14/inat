{
 "cells": [
  {
   "cell_type": "code",
   "execution_count": 1,
   "metadata": {},
   "outputs": [],
   "source": [
    "import requests\n",
    "import pandas as pd\n",
    "import json\n",
    "import os"
   ]
  },
  {
   "cell_type": "code",
   "execution_count": 2,
   "metadata": {},
   "outputs": [],
   "source": [
    "# add url\n",
    "base_url = \"https://api.inaturalist.org/v1\"\n",
    "\n",
    "# add iNaturalist user\n",
    "user = \"d_gonzalez\""
   ]
  },
  {
   "cell_type": "code",
   "execution_count": 3,
   "metadata": {},
   "outputs": [],
   "source": [
    "# define request function\n",
    "def get_data(endpoint, params={}):\n",
    "    url = f\"{base_url}/{endpoint}\"\n",
    "    try:\n",
    "        response = requests.get(url, params=params)\n",
    "        response.raise_for_status()\n",
    "        return response.json()\n",
    "    except requests.exceptions.RequestException as e:\n",
    "        print(f\"Error getting {endpoint}: {e}\")\n",
    "        return None"
   ]
  },
  {
   "cell_type": "code",
   "execution_count": 4,
   "metadata": {},
   "outputs": [],
   "source": [
    "# store json\n",
    "def to_json(data, filename):\n",
    "    try:\n",
    "        # # Ensure the directory exists\n",
    "        # os.makedirs(os.path.join(\"..\", \"files\", \"raw\"), exist_ok=True)\n",
    "        \n",
    "        # Create the full path for the file\n",
    "        file_path = os.path.join(\"..\", \"files\", \"raw\", filename)\n",
    "        \n",
    "        # Write the JSON data to the file\n",
    "        with open(file_path, \"w\", encoding=\"utf-8\") as f:\n",
    "            json.dump(data, f, ensure_ascii=False, indent=4)  # Pretty-print JSON\n",
    "        print(f\"Data saved to {file_path}\")\n",
    "    except Exception as e:\n",
    "        print(f\"Error saving to {file_path}: {e}\")"
   ]
  },
  {
   "cell_type": "code",
   "execution_count": 5,
   "metadata": {},
   "outputs": [],
   "source": [
    "# get observations\n",
    "def get_observations(user):\n",
    "    print(\"Getting my observations...\")\n",
    "    params = {\"user_id\": user, \n",
    "              \"per_page\": 30}\n",
    "    data = get_data(\"observations\", params)\n",
    "    return data.get(\"results\", []) if data else []"
   ]
  },
  {
   "cell_type": "code",
   "execution_count": 6,
   "metadata": {},
   "outputs": [],
   "source": [
    "# get ids\n",
    "def get_ids(user):\n",
    "    print(\"Getting my ids...\")\n",
    "    params = {\"user_id\": user, \n",
    "              \"per_page\": 30}\n",
    "    data = get_data(\"identifications\", params)\n",
    "    return data.get(\"results\", []) if data else []"
   ]
  },
  {
   "cell_type": "code",
   "execution_count": 7,
   "metadata": {},
   "outputs": [],
   "source": [
    "#get profile\n",
    "def get_profile(user):\n",
    "    print(\"Getting your profile...\")\n",
    "    params = {\"q\": user}\n",
    "    data = get_data(\"users/autocomplete\", params)\n",
    "    return data.get(\"results\", []) if data else []"
   ]
  },
  {
   "cell_type": "code",
   "execution_count": 8,
   "metadata": {},
   "outputs": [
    {
     "name": "stdout",
     "output_type": "stream",
     "text": [
      "Getting my observations...\n",
      "Retrieved 30 observations.\n",
      "Data saved to ..\\files\\raw\\observations.json\n",
      "Getting my ids...\n",
      "Retrieved 30 identifications.\n",
      "Data saved to ..\\files\\raw\\identifications.json\n",
      "Getting your profile...\n",
      "Retrieved user profile.\n",
      "Data saved to ..\\files\\raw\\user_profile.json\n"
     ]
    }
   ],
   "source": [
    "# main function to bring you your data\n",
    "def main():\n",
    "    # Observations\n",
    "    observations = get_observations(user)\n",
    "    if observations:\n",
    "        print(f\"Retrieved {len(observations)} observations.\")\n",
    "        to_json(observations, \"observations.json\")\n",
    "\n",
    "    # Identifications\n",
    "    identifications = get_ids(user)\n",
    "    if identifications:\n",
    "        print(f\"Retrieved {len(identifications)} identifications.\")\n",
    "        to_json(identifications, \"identifications.json\")\n",
    "\n",
    "    # User Profile\n",
    "    user_profile = get_profile(user)\n",
    "    if user_profile:\n",
    "        print(\"Retrieved user profile.\")\n",
    "        to_json([user_profile], \"user_profile.json\")\n",
    "\n",
    "if __name__ == \"__main__\":\n",
    "    main()"
   ]
  }
 ],
 "metadata": {
  "kernelspec": {
   "display_name": "venv",
   "language": "python",
   "name": "python3"
  },
  "language_info": {
   "codemirror_mode": {
    "name": "ipython",
    "version": 3
   },
   "file_extension": ".py",
   "mimetype": "text/x-python",
   "name": "python",
   "nbconvert_exporter": "python",
   "pygments_lexer": "ipython3",
   "version": "3.11.2"
  }
 },
 "nbformat": 4,
 "nbformat_minor": 2
}
