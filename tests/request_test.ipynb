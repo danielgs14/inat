{
 "cells": [
  {
   "cell_type": "code",
   "execution_count": null,
   "metadata": {},
   "outputs": [],
   "source": [
    "# start with imports\n",
    "import requests # talk to API from iNaturalist\n",
    "import json # used here for a prettier output \n",
    "import os # navitating through directories"
   ]
  },
  {
   "cell_type": "code",
   "execution_count": null,
   "metadata": {},
   "outputs": [],
   "source": [
    "# add url\n",
    "base_url = \"https://api.inaturalist.org/v1\"\n",
    "\n",
    "# add iNaturalist user\n",
    "user = \"[your_user]\""
   ]
  },
  {
   "cell_type": "code",
   "execution_count": 4,
   "metadata": {},
   "outputs": [],
   "source": [
    "# define request function\n",
    "def get_data(endpoint, params={}):\n",
    "    url = f\"{base_url}/{endpoint}\"\n",
    "    try:\n",
    "        response = requests.get(url, params=params)\n",
    "        response.raise_for_status()\n",
    "        return response.json()\n",
    "    except requests.exceptions.RequestException as e:\n",
    "        print(f\"Error getting {endpoint}: {e}\")\n",
    "        return None"
   ]
  },
  {
   "cell_type": "code",
   "execution_count": null,
   "metadata": {},
   "outputs": [],
   "source": [
    "# get all data \n",
    "# required as without pagination, you can get a max of 200 results\n",
    "def get_all_pages(endpoint, base_params={}):\n",
    "    all_results = []\n",
    "    page = 1\n",
    "    while True:\n",
    "        print(f\"Getting page {page} of {endpoint}...\")\n",
    "        params = {**base_params, \"page\": page, \"per_page\": 200}\n",
    "        data = get_data(endpoint, params)\n",
    "        if data and \"results\" in data:\n",
    "            results = data[\"results\"]\n",
    "            all_results.extend(results)\n",
    "            if len(results) < 200:\n",
    "                break\n",
    "            page += 1\n",
    "        else:\n",
    "            break\n",
    "    print(f\"Retrieved {len(all_results)} total results from {endpoint}.\")\n",
    "    return all_results"
   ]
  },
  {
   "cell_type": "code",
   "execution_count": null,
   "metadata": {},
   "outputs": [],
   "source": [
    "# store json\n",
    "def to_json(data, filename):\n",
    "    try:\n",
    "\n",
    "        file_path = os.path.join(\"..\", \"files\", \"raw\", filename)\n",
    "        \n",
    "        with open(file_path, \"w\", encoding=\"utf-8\") as f:\n",
    "            json.dump(data, f, ensure_ascii=False, indent=4)  # Pretty-print JSON\n",
    "        print(f\"Data saved to {file_path}\")\n",
    "\n",
    "    except Exception as e:\n",
    "        print(f\"Error saving to {file_path}: {e}\")"
   ]
  },
  {
   "cell_type": "code",
   "execution_count": 7,
   "metadata": {},
   "outputs": [],
   "source": [
    "# get observations\n",
    "def get_observations(user):\n",
    "    print(\"Getting all observations...\")\n",
    "    params = {\"user_id\": user}\n",
    "    return get_all_pages(\"observations\", params)"
   ]
  },
  {
   "cell_type": "code",
   "execution_count": 8,
   "metadata": {},
   "outputs": [],
   "source": [
    "# get ids\n",
    "def get_ids(user):\n",
    "    print(\"Getting all identifications...\")\n",
    "    params = {\"user_id\": user}\n",
    "    return get_all_pages(\"identifications\", params)"
   ]
  },
  {
   "cell_type": "code",
   "execution_count": 9,
   "metadata": {},
   "outputs": [],
   "source": [
    "# get profile\n",
    "def get_profile(user):\n",
    "    print(\"Getting your profile...\")\n",
    "    params = {\"q\": user}\n",
    "    data = get_data(\"users/autocomplete\", params)\n",
    "    return data.get(\"results\", []) if data else []"
   ]
  },
  {
   "cell_type": "code",
   "execution_count": 10,
   "metadata": {},
   "outputs": [],
   "source": [
    "# main function to bring you your data\n",
    "def main():\n",
    "    # Observations\n",
    "    observations = get_observations(user)\n",
    "    if observations:\n",
    "        print(f\"Retrieved {len(observations)} observations.\")\n",
    "        to_json(observations, \"observations.json\")\n",
    "\n",
    "    # Identifications\n",
    "    identifications = get_ids(user)\n",
    "    if identifications:\n",
    "        print(f\"Retrieved {len(identifications)} identifications.\")\n",
    "        to_json(identifications, \"identifications.json\")\n",
    "\n",
    "    # User Profile\n",
    "    user_profile = get_profile(user)\n",
    "    if user_profile:\n",
    "        print(\"Retrieved user profile.\")\n",
    "        to_json([user_profile], \"user_profile.json\")\n"
   ]
  },
  {
   "cell_type": "code",
   "execution_count": 11,
   "metadata": {},
   "outputs": [
    {
     "name": "stdout",
     "output_type": "stream",
     "text": [
      "Getting all observations...\n",
      "Getting page 1 of observations...\n",
      "Getting page 2 of observations...\n",
      "Retrieved 349 total results from observations.\n",
      "Retrieved 349 observations.\n",
      "Data saved to ..\\files\\raw\\observations.json\n",
      "Getting all identifications...\n",
      "Getting page 1 of identifications...\n",
      "Getting page 2 of identifications...\n",
      "Retrieved 366 total results from identifications.\n",
      "Retrieved 366 identifications.\n",
      "Data saved to ..\\files\\raw\\identifications.json\n",
      "Getting your profile...\n",
      "Retrieved user profile.\n",
      "Data saved to ..\\files\\raw\\user_profile.json\n"
     ]
    }
   ],
   "source": [
    "if __name__ == \"__main__\":\n",
    "    main()"
   ]
  }
 ],
 "metadata": {
  "kernelspec": {
   "display_name": "venv",
   "language": "python",
   "name": "python3"
  },
  "language_info": {
   "codemirror_mode": {
    "name": "ipython",
    "version": 3
   },
   "file_extension": ".py",
   "mimetype": "text/x-python",
   "name": "python",
   "nbconvert_exporter": "python",
   "pygments_lexer": "ipython3",
   "version": "3.11.2"
  }
 },
 "nbformat": 4,
 "nbformat_minor": 2
}
