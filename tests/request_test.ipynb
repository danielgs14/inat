{
 "cells": [
  {
   "cell_type": "code",
   "execution_count": 45,
   "metadata": {},
   "outputs": [],
   "source": [
    "import requests\n",
    "import pandas as pd\n",
    "import json\n",
    "import os"
   ]
  },
  {
   "cell_type": "code",
   "execution_count": 46,
   "metadata": {},
   "outputs": [],
   "source": [
    "# add url\n",
    "base_url = \"https://api.inaturalist.org/v1\"\n",
    "\n",
    "# add iNaturalist user\n",
    "user = \"d_gonzalez\""
   ]
  },
  {
   "cell_type": "code",
   "execution_count": 47,
   "metadata": {},
   "outputs": [],
   "source": [
    "# define request function\n",
    "def get_data(endpoint, params={}):\n",
    "    url = f\"{base_url}/{endpoint}\"\n",
    "    try:\n",
    "        response = requests.get(url, params=params)\n",
    "        response.raise_for_status()\n",
    "        return response.json()\n",
    "    except requests.exceptions.RequestException as e:\n",
    "        print(f\"Error getting {endpoint}: {e}\")\n",
    "        return None"
   ]
  },
  {
   "cell_type": "code",
   "execution_count": 48,
   "metadata": {},
   "outputs": [],
   "source": [
    "# store json\n",
    "def to_json(data, filename):\n",
    "    try:\n",
    "        # # Ensure the directory exists\n",
    "        # os.makedirs(os.path.join(\"..\", \"files\", \"raw\"), exist_ok=True)\n",
    "        \n",
    "        # Create the full path for the file\n",
    "        file_path = os.path.join(\"..\", \"files\", \"raw\", filename)\n",
    "        \n",
    "        # Write the JSON data to the file\n",
    "        with open(file_path, \"w\", encoding=\"utf-8\") as f:\n",
    "            json.dump(data, f, ensure_ascii=False, indent=4)  # Pretty-print JSON\n",
    "        print(f\"Data saved to {file_path}\")\n",
    "    except Exception as e:\n",
    "        print(f\"Error saving to {file_path}: {e}\")"
   ]
  },
  {
   "cell_type": "code",
   "execution_count": 49,
   "metadata": {},
   "outputs": [],
   "source": [
    "# # store as json\n",
    "# def to_json(data, filename):\n",
    "#     try:\n",
    "#         df = pd.DataFrame(data)  # Convert list of dictionaries to DataFrame\n",
    "#         df.to_json(filename, index=False, encoding=\"utf-8\")  # Save to json\n",
    "#         print(f\"Data saved to {filename}\")\n",
    "#     except Exception as e:\n",
    "#         print(f\"Error saving to {filename}: {e}\")"
   ]
  },
  {
   "cell_type": "code",
   "execution_count": 50,
   "metadata": {},
   "outputs": [],
   "source": [
    "# get observations\n",
    "def get_observations(user):\n",
    "    print(\"Getting my observations...\")\n",
    "    params = {\"user_id\": user, \n",
    "              \"per_page\": 30}\n",
    "    data = get_data(\"observations\", params)\n",
    "    return data.get(\"results\", []) if data else []"
   ]
  },
  {
   "cell_type": "code",
   "execution_count": 51,
   "metadata": {},
   "outputs": [],
   "source": [
    "# get ids\n",
    "def get_ids(user):\n",
    "    print(\"Getting my ids...\")\n",
    "    params = {\"user_id\": user, \n",
    "              \"per_page\": 30}\n",
    "    data = get_data(\"identifications\", params)\n",
    "    return data.get(\"results\", []) if data else []"
   ]
  },
  {
   "cell_type": "code",
   "execution_count": 52,
   "metadata": {},
   "outputs": [],
   "source": [
    "#get profile\n",
    "def get_profile(user):\n",
    "    print(\"Getting your profile...\")\n",
    "    params = {\"q\": user}\n",
    "    data = get_data(\"users/autocomplete\", params)\n",
    "    return data.get(\"results\", []) if data else []"
   ]
  },
  {
   "cell_type": "code",
   "execution_count": 53,
   "metadata": {},
   "outputs": [
    {
     "name": "stdout",
     "output_type": "stream",
     "text": [
      "Getting my observations...\n",
      "Retrieved 30 observations.\n",
      "Data saved to ..\\files\\raw\\observations.json\n",
      "Getting my ids...\n",
      "Retrieved 30 identifications.\n",
      "Data saved to ..\\files\\raw\\identifications.json\n",
      "Getting your profile...\n",
      "Retrieved user profile.\n",
      "Data saved to ..\\files\\raw\\user_profile.json\n"
     ]
    }
   ],
   "source": [
    "# main function to bring you your data\n",
    "def main():\n",
    "    # Observations\n",
    "    observations = get_observations(user)\n",
    "    if observations:\n",
    "        print(f\"Retrieved {len(observations)} observations.\")\n",
    "        to_json(observations, \"observations.json\")\n",
    "\n",
    "    # Identifications\n",
    "    identifications = get_ids(user)\n",
    "    if identifications:\n",
    "        print(f\"Retrieved {len(identifications)} identifications.\")\n",
    "        to_json(identifications, \"identifications.json\")\n",
    "\n",
    "    # User Profile\n",
    "    user_profile = get_profile(user)\n",
    "    if user_profile:\n",
    "        print(\"Retrieved user profile.\")\n",
    "        to_json([user_profile], \"user_profile.json\")\n",
    "\n",
    "if __name__ == \"__main__\":\n",
    "    main()"
   ]
  },
  {
   "cell_type": "code",
   "execution_count": 23,
   "metadata": {},
   "outputs": [],
   "source": [
    "# Load JSON\n",
    "with open(\"observations.json\", \"r\", encoding=\"utf-8\") as f: \n",
    "    observations = json.load(f)\n",
    "\n",
    "# Convert to DataFrame and Save to CSV\n",
    "df = pd.DataFrame(observations)\n",
    "df.to_csv(\"observations_reprocessed.csv\", index=False)"
   ]
  },
  {
   "cell_type": "code",
   "execution_count": null,
   "metadata": {},
   "outputs": [
    {
     "name": "stdout",
     "output_type": "stream",
     "text": [
      "Successfully saved identifications.json as CSV.\n",
      "Successfully saved observations.json as CSV.\n",
      "Successfully saved user_profile.json as CSV.\n"
     ]
    }
   ],
   "source": [
    "# parse json\n",
    "def parse_json():\n",
    "    raw = os.path.join(\"..\", \"files\", \"raw\")\n",
    "    \n",
    "    # List of JSON files in the raw folder\n",
    "    json_files = [f for f in os.listdir(raw) if f.endswith('.json')]\n",
    "    \n",
    "    # Process each JSON file\n",
    "    for json_file in json_files:\n",
    "        json_path = os.path.join(raw, json_file)\n",
    "        \n",
    "        # Load the JSON data\n",
    "        try:\n",
    "            with open(json_path, 'r', encoding='utf-8') as f:\n",
    "                data = json.load(f)\n",
    "            \n",
    "            # Check if the data is a list (common for iNaturalist data)\n",
    "            if isinstance(data, list):\n",
    "                df = pd.DataFrame(data)\n",
    "            else:\n",
    "                # If the JSON structure is not a simple list, adjust accordingly\n",
    "                df = pd.DataFrame([data])  # Wrap in a list to handle single objects\n",
    "            \n",
    "            # Save the data to a CSV in the same folder\n",
    "            output_csv = os.path.join(raw, json_file.replace('.json', '.csv'))\n",
    "            df.to_csv(output_csv, index=False, encoding=\"utf-8\")\n",
    "            print(f\"Successfully saved {json_file} as CSV.\")\n",
    "        \n",
    "        except Exception as e:\n",
    "            print(f\"Error processing {json_file}: {e}\")\n",
    "\n",
    "parse_json()"
   ]
  }
 ],
 "metadata": {
  "kernelspec": {
   "display_name": "venv",
   "language": "python",
   "name": "python3"
  },
  "language_info": {
   "codemirror_mode": {
    "name": "ipython",
    "version": 3
   },
   "file_extension": ".py",
   "mimetype": "text/x-python",
   "name": "python",
   "nbconvert_exporter": "python",
   "pygments_lexer": "ipython3",
   "version": "3.11.2"
  }
 },
 "nbformat": 4,
 "nbformat_minor": 2
}
