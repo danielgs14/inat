{
 "cells": [
  {
   "cell_type": "code",
   "execution_count": null,
   "metadata": {},
   "outputs": [],
   "source": [
    "import pandas as pd\n",
    "import json \n",
    "import os\n",
    "read_folder = \"../files/raw\""
   ]
  },
  {
   "cell_type": "code",
   "execution_count": null,
   "metadata": {},
   "outputs": [],
   "source": [
    "# load json\n",
    "# using with...as allows for automatic closure of file instead of manually using f.close()\n",
    "#TODO: loop through directory\n",
    "\n",
    "with open(\"../files/raw/observations.json\", \"r\", encoding=\"utf-8\") as f:\n",
    "    observations = json.load(f)\n",
    "\n",
    "with open(\"../files/raw/identifications.json\", \"r\", encoding=\"utf-8\") as f:\n",
    "    identifications = json.load(f)\n",
    "\n",
    "with open(\"../files/raw/user_profile.json\", \"r\", encoding=\"utf-8\") as f:\n",
    "    profile = json.load(f)"
   ]
  },
  {
   "cell_type": "code",
   "execution_count": 6,
   "metadata": {},
   "outputs": [],
   "source": [
    "# create dataframe from json\n",
    "\n",
    "df_observations = pd.json_normalize(observations)\n",
    "# check all columns \n",
    "# df_observations.columns.tolist()\n"
   ]
  },
  {
   "cell_type": "code",
   "execution_count": null,
   "metadata": {},
   "outputs": [],
   "source": [
    "#subset of data\n",
    "\n",
    "df_observations = df_observations[\n",
    "    [\"quality_grade\"\n",
    "    , \"observed_on\"\n",
    "    , \"identifications_most_agree\"\n",
    "    , \"num_identification_agreements\"\n",
    "    , \"community_taxon_id\"\n",
    "    , \"location\"\n",
    "    , \"taxon.name\"]\n",
    "    ]\n"
   ]
  },
  {
   "cell_type": "code",
   "execution_count": null,
   "metadata": {},
   "outputs": [],
   "source": [
    "# fix location\n",
    "\n",
    "df_observations[['lat', 'lon']] = df_observations['location'].str.split(',', expand=True)\n",
    "df_observations = df_observations.drop(columns=['location'])"
   ]
  },
  {
   "cell_type": "code",
   "execution_count": 22,
   "metadata": {},
   "outputs": [
    {
     "name": "stdout",
     "output_type": "stream",
     "text": [
      "<class 'pandas.core.frame.DataFrame'>\n",
      "RangeIndex: 349 entries, 0 to 348\n",
      "Data columns (total 8 columns):\n",
      " #   Column                         Non-Null Count  Dtype  \n",
      "---  ------                         --------------  -----  \n",
      " 0   quality_grade                  349 non-null    object \n",
      " 1   observed_on                    349 non-null    object \n",
      " 2   identifications_most_agree     349 non-null    bool   \n",
      " 3   num_identification_agreements  349 non-null    int64  \n",
      " 4   community_taxon_id             129 non-null    float64\n",
      " 5   taxon.name                     349 non-null    object \n",
      " 6   lat                            349 non-null    object \n",
      " 7   lon                            349 non-null    object \n",
      "dtypes: bool(1), float64(1), int64(1), object(5)\n",
      "memory usage: 19.6+ KB\n"
     ]
    }
   ],
   "source": [
    "df_observations.info()"
   ]
  },
  {
   "cell_type": "code",
   "execution_count": 23,
   "metadata": {},
   "outputs": [],
   "source": [
    "df_observations.to_csv(\"../files/tidy/observations.csv\", index=False)"
   ]
  }
 ],
 "metadata": {
  "kernelspec": {
   "display_name": "venv",
   "language": "python",
   "name": "python3"
  },
  "language_info": {
   "codemirror_mode": {
    "name": "ipython",
    "version": 3
   },
   "file_extension": ".py",
   "mimetype": "text/x-python",
   "name": "python",
   "nbconvert_exporter": "python",
   "pygments_lexer": "ipython3",
   "version": "3.11.2"
  }
 },
 "nbformat": 4,
 "nbformat_minor": 2
}
